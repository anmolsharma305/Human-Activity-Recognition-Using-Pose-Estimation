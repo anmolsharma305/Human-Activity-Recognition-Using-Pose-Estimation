{
 "cells": [
  {
   "cell_type": "code",
   "execution_count": 1,
   "metadata": {},
   "outputs": [],
   "source": [
    "import pandas as pd\n",
    "import numpy as np \n",
    "\n",
    "from sklearn.linear_model import LogisticRegression\n",
    "from sklearn.ensemble import RandomForestClassifier\n",
    "from sklearn.svm import SVC "
   ]
  },
  {
   "cell_type": "code",
   "execution_count": 2,
   "metadata": {},
   "outputs": [],
   "source": [
    "# create classifier\n",
    "lr = LogisticRegression()\n",
    "rfc = RandomForestClassifier(n_estimators=100)\n",
    "svc = SVC(kernel='linear', C=1E10)"
   ]
  },
  {
   "cell_type": "code",
   "execution_count": 3,
   "metadata": {},
   "outputs": [],
   "source": [
    "pose = pd.read_csv(\"dataset/activity_dataset.csv\")"
   ]
  },
  {
   "cell_type": "code",
   "execution_count": 4,
   "metadata": {},
   "outputs": [
    {
     "data": {
      "text/html": [
       "<div>\n",
       "<style scoped>\n",
       "    .dataframe tbody tr th:only-of-type {\n",
       "        vertical-align: middle;\n",
       "    }\n",
       "\n",
       "    .dataframe tbody tr th {\n",
       "        vertical-align: top;\n",
       "    }\n",
       "\n",
       "    .dataframe thead th {\n",
       "        text-align: right;\n",
       "    }\n",
       "</style>\n",
       "<table border=\"1\" class=\"dataframe\">\n",
       "  <thead>\n",
       "    <tr style=\"text-align: right;\">\n",
       "      <th></th>\n",
       "      <th>Nose X</th>\n",
       "      <th>Nose Y</th>\n",
       "      <th>Neck X</th>\n",
       "      <th>Neck Y</th>\n",
       "      <th>Right Shoulder X</th>\n",
       "      <th>Right Shoulder Y</th>\n",
       "      <th>Right Elbow X</th>\n",
       "      <th>Right Elbow Y</th>\n",
       "      <th>Right Wrist X</th>\n",
       "      <th>Right Wrist Y</th>\n",
       "      <th>...</th>\n",
       "      <th>Left Ankle Y</th>\n",
       "      <th>Right Eye X</th>\n",
       "      <th>Right Eye Y</th>\n",
       "      <th>Left Eye X</th>\n",
       "      <th>Left Eye Y</th>\n",
       "      <th>Right Ear X</th>\n",
       "      <th>Right Ear Y</th>\n",
       "      <th>Left Ear X</th>\n",
       "      <th>Left Ear Y</th>\n",
       "      <th>Activity</th>\n",
       "    </tr>\n",
       "  </thead>\n",
       "  <tbody>\n",
       "    <tr>\n",
       "      <th>0</th>\n",
       "      <td>396.296296</td>\n",
       "      <td>208.695652</td>\n",
       "      <td>377.777778</td>\n",
       "      <td>278.260870</td>\n",
       "      <td>362.962963</td>\n",
       "      <td>282.608696</td>\n",
       "      <td>362.962963</td>\n",
       "      <td>282.608696</td>\n",
       "      <td>362.962963</td>\n",
       "      <td>282.608696</td>\n",
       "      <td>...</td>\n",
       "      <td>273.913044</td>\n",
       "      <td>385.185185</td>\n",
       "      <td>200.000000</td>\n",
       "      <td>385.185185</td>\n",
       "      <td>200.000000</td>\n",
       "      <td>362.962963</td>\n",
       "      <td>217.391304</td>\n",
       "      <td>362.962963</td>\n",
       "      <td>217.391304</td>\n",
       "      <td>dancing</td>\n",
       "    </tr>\n",
       "    <tr>\n",
       "      <th>1</th>\n",
       "      <td>311.111111</td>\n",
       "      <td>303.260870</td>\n",
       "      <td>338.888889</td>\n",
       "      <td>283.695652</td>\n",
       "      <td>330.555556</td>\n",
       "      <td>288.586956</td>\n",
       "      <td>330.555556</td>\n",
       "      <td>288.586956</td>\n",
       "      <td>330.555556</td>\n",
       "      <td>288.586956</td>\n",
       "      <td>...</td>\n",
       "      <td>572.282609</td>\n",
       "      <td>313.888889</td>\n",
       "      <td>572.282609</td>\n",
       "      <td>308.333333</td>\n",
       "      <td>288.586956</td>\n",
       "      <td>308.333333</td>\n",
       "      <td>288.586956</td>\n",
       "      <td>311.111111</td>\n",
       "      <td>264.130435</td>\n",
       "      <td>dancing</td>\n",
       "    </tr>\n",
       "    <tr>\n",
       "      <th>2</th>\n",
       "      <td>288.972222</td>\n",
       "      <td>98.043478</td>\n",
       "      <td>323.305556</td>\n",
       "      <td>124.782609</td>\n",
       "      <td>309.000000</td>\n",
       "      <td>129.239130</td>\n",
       "      <td>300.416667</td>\n",
       "      <td>158.206522</td>\n",
       "      <td>303.277778</td>\n",
       "      <td>149.293478</td>\n",
       "      <td>...</td>\n",
       "      <td>222.826087</td>\n",
       "      <td>286.111111</td>\n",
       "      <td>91.358696</td>\n",
       "      <td>294.694444</td>\n",
       "      <td>91.358696</td>\n",
       "      <td>294.694444</td>\n",
       "      <td>91.358696</td>\n",
       "      <td>317.583333</td>\n",
       "      <td>91.358696</td>\n",
       "      <td>dancing</td>\n",
       "    </tr>\n",
       "    <tr>\n",
       "      <th>3</th>\n",
       "      <td>412.953704</td>\n",
       "      <td>487.500000</td>\n",
       "      <td>449.037037</td>\n",
       "      <td>536.956522</td>\n",
       "      <td>461.064815</td>\n",
       "      <td>522.826087</td>\n",
       "      <td>461.064815</td>\n",
       "      <td>522.826087</td>\n",
       "      <td>461.064815</td>\n",
       "      <td>522.826087</td>\n",
       "      <td>...</td>\n",
       "      <td>1010.326087</td>\n",
       "      <td>324.750000</td>\n",
       "      <td>1010.326087</td>\n",
       "      <td>324.750000</td>\n",
       "      <td>1010.326087</td>\n",
       "      <td>324.750000</td>\n",
       "      <td>1010.326087</td>\n",
       "      <td>412.953704</td>\n",
       "      <td>501.630435</td>\n",
       "      <td>dancing</td>\n",
       "    </tr>\n",
       "    <tr>\n",
       "      <th>4</th>\n",
       "      <td>131.111111</td>\n",
       "      <td>44.130435</td>\n",
       "      <td>124.555556</td>\n",
       "      <td>63.043478</td>\n",
       "      <td>116.907407</td>\n",
       "      <td>65.565217</td>\n",
       "      <td>98.333333</td>\n",
       "      <td>73.130435</td>\n",
       "      <td>88.500000</td>\n",
       "      <td>75.652174</td>\n",
       "      <td>...</td>\n",
       "      <td>92.043478</td>\n",
       "      <td>127.833333</td>\n",
       "      <td>42.869565</td>\n",
       "      <td>127.833333</td>\n",
       "      <td>42.869565</td>\n",
       "      <td>119.092593</td>\n",
       "      <td>49.173913</td>\n",
       "      <td>119.092593</td>\n",
       "      <td>49.173913</td>\n",
       "      <td>dancing</td>\n",
       "    </tr>\n",
       "  </tbody>\n",
       "</table>\n",
       "<p>5 rows × 37 columns</p>\n",
       "</div>"
      ],
      "text/plain": [
       "       Nose X      Nose Y      Neck X      Neck Y  Right Shoulder X  \\\n",
       "0  396.296296  208.695652  377.777778  278.260870        362.962963   \n",
       "1  311.111111  303.260870  338.888889  283.695652        330.555556   \n",
       "2  288.972222   98.043478  323.305556  124.782609        309.000000   \n",
       "3  412.953704  487.500000  449.037037  536.956522        461.064815   \n",
       "4  131.111111   44.130435  124.555556   63.043478        116.907407   \n",
       "\n",
       "   Right Shoulder Y  Right Elbow X  Right Elbow Y  Right Wrist X  \\\n",
       "0        282.608696     362.962963     282.608696     362.962963   \n",
       "1        288.586956     330.555556     288.586956     330.555556   \n",
       "2        129.239130     300.416667     158.206522     303.277778   \n",
       "3        522.826087     461.064815     522.826087     461.064815   \n",
       "4         65.565217      98.333333      73.130435      88.500000   \n",
       "\n",
       "   Right Wrist Y  ...  Left Ankle Y  Right Eye X  Right Eye Y  Left Eye X  \\\n",
       "0     282.608696  ...    273.913044   385.185185   200.000000  385.185185   \n",
       "1     288.586956  ...    572.282609   313.888889   572.282609  308.333333   \n",
       "2     149.293478  ...    222.826087   286.111111    91.358696  294.694444   \n",
       "3     522.826087  ...   1010.326087   324.750000  1010.326087  324.750000   \n",
       "4      75.652174  ...     92.043478   127.833333    42.869565  127.833333   \n",
       "\n",
       "    Left Eye Y  Right Ear X  Right Ear Y  Left Ear X  Left Ear Y  Activity  \n",
       "0   200.000000   362.962963   217.391304  362.962963  217.391304   dancing  \n",
       "1   288.586956   308.333333   288.586956  311.111111  264.130435   dancing  \n",
       "2    91.358696   294.694444    91.358696  317.583333   91.358696   dancing  \n",
       "3  1010.326087   324.750000  1010.326087  412.953704  501.630435   dancing  \n",
       "4    42.869565   119.092593    49.173913  119.092593   49.173913   dancing  \n",
       "\n",
       "[5 rows x 37 columns]"
      ]
     },
     "execution_count": 4,
     "metadata": {},
     "output_type": "execute_result"
    }
   ],
   "source": [
    "pose.head(5)"
   ]
  },
  {
   "cell_type": "code",
   "execution_count": 5,
   "metadata": {},
   "outputs": [
    {
     "data": {
      "text/html": [
       "<div>\n",
       "<style scoped>\n",
       "    .dataframe tbody tr th:only-of-type {\n",
       "        vertical-align: middle;\n",
       "    }\n",
       "\n",
       "    .dataframe tbody tr th {\n",
       "        vertical-align: top;\n",
       "    }\n",
       "\n",
       "    .dataframe thead th {\n",
       "        text-align: right;\n",
       "    }\n",
       "</style>\n",
       "<table border=\"1\" class=\"dataframe\">\n",
       "  <thead>\n",
       "    <tr style=\"text-align: right;\">\n",
       "      <th></th>\n",
       "      <th>Nose X</th>\n",
       "      <th>Nose Y</th>\n",
       "      <th>Neck X</th>\n",
       "      <th>Neck Y</th>\n",
       "      <th>Right Shoulder X</th>\n",
       "      <th>Right Shoulder Y</th>\n",
       "      <th>Right Elbow X</th>\n",
       "      <th>Right Elbow Y</th>\n",
       "      <th>Right Wrist X</th>\n",
       "      <th>Right Wrist Y</th>\n",
       "      <th>...</th>\n",
       "      <th>Left Ankle Y</th>\n",
       "      <th>Right Eye X</th>\n",
       "      <th>Right Eye Y</th>\n",
       "      <th>Left Eye X</th>\n",
       "      <th>Left Eye Y</th>\n",
       "      <th>Right Ear X</th>\n",
       "      <th>Right Ear Y</th>\n",
       "      <th>Left Ear X</th>\n",
       "      <th>Left Ear Y</th>\n",
       "      <th>Activity</th>\n",
       "    </tr>\n",
       "  </thead>\n",
       "  <tbody>\n",
       "    <tr>\n",
       "      <th>743</th>\n",
       "      <td>251.060185</td>\n",
       "      <td>78.500000</td>\n",
       "      <td>231.291667</td>\n",
       "      <td>146.760870</td>\n",
       "      <td>166.055556</td>\n",
       "      <td>143.347826</td>\n",
       "      <td>138.379630</td>\n",
       "      <td>228.673913</td>\n",
       "      <td>162.101852</td>\n",
       "      <td>303.760870</td>\n",
       "      <td>...</td>\n",
       "      <td>573.391304</td>\n",
       "      <td>245.129630</td>\n",
       "      <td>64.847826</td>\n",
       "      <td>264.898148</td>\n",
       "      <td>71.673913</td>\n",
       "      <td>225.361111</td>\n",
       "      <td>64.847826</td>\n",
       "      <td>276.759259</td>\n",
       "      <td>85.326087</td>\n",
       "      <td>standing</td>\n",
       "    </tr>\n",
       "    <tr>\n",
       "      <th>744</th>\n",
       "      <td>158.888889</td>\n",
       "      <td>48.423913</td>\n",
       "      <td>165.000000</td>\n",
       "      <td>104.918478</td>\n",
       "      <td>117.638889</td>\n",
       "      <td>107.608696</td>\n",
       "      <td>99.305556</td>\n",
       "      <td>166.793478</td>\n",
       "      <td>100.833333</td>\n",
       "      <td>220.597826</td>\n",
       "      <td>...</td>\n",
       "      <td>435.815217</td>\n",
       "      <td>151.250000</td>\n",
       "      <td>40.353261</td>\n",
       "      <td>168.055556</td>\n",
       "      <td>40.353261</td>\n",
       "      <td>140.555556</td>\n",
       "      <td>48.423913</td>\n",
       "      <td>183.333333</td>\n",
       "      <td>45.733696</td>\n",
       "      <td>standing</td>\n",
       "    </tr>\n",
       "    <tr>\n",
       "      <th>745</th>\n",
       "      <td>478.333333</td>\n",
       "      <td>118.711956</td>\n",
       "      <td>466.666667</td>\n",
       "      <td>193.456522</td>\n",
       "      <td>400.555556</td>\n",
       "      <td>189.059783</td>\n",
       "      <td>385.000000</td>\n",
       "      <td>281.391304</td>\n",
       "      <td>466.666667</td>\n",
       "      <td>285.788044</td>\n",
       "      <td>...</td>\n",
       "      <td>690.288043</td>\n",
       "      <td>466.666667</td>\n",
       "      <td>105.521739</td>\n",
       "      <td>490.000000</td>\n",
       "      <td>109.918478</td>\n",
       "      <td>443.333333</td>\n",
       "      <td>109.918478</td>\n",
       "      <td>505.555556</td>\n",
       "      <td>114.315217</td>\n",
       "      <td>standing</td>\n",
       "    </tr>\n",
       "    <tr>\n",
       "      <th>746</th>\n",
       "      <td>142.347222</td>\n",
       "      <td>36.130435</td>\n",
       "      <td>141.064815</td>\n",
       "      <td>60.217391</td>\n",
       "      <td>120.546296</td>\n",
       "      <td>58.711957</td>\n",
       "      <td>93.615741</td>\n",
       "      <td>81.293478</td>\n",
       "      <td>75.662037</td>\n",
       "      <td>63.228261</td>\n",
       "      <td>...</td>\n",
       "      <td>245.385870</td>\n",
       "      <td>138.500000</td>\n",
       "      <td>31.614130</td>\n",
       "      <td>147.476852</td>\n",
       "      <td>33.119565</td>\n",
       "      <td>133.370370</td>\n",
       "      <td>34.625000</td>\n",
       "      <td>152.606482</td>\n",
       "      <td>37.635870</td>\n",
       "      <td>standing</td>\n",
       "    </tr>\n",
       "    <tr>\n",
       "      <th>747</th>\n",
       "      <td>182.120370</td>\n",
       "      <td>109.994565</td>\n",
       "      <td>216.907407</td>\n",
       "      <td>160.532609</td>\n",
       "      <td>167.796296</td>\n",
       "      <td>163.505435</td>\n",
       "      <td>151.425926</td>\n",
       "      <td>225.934783</td>\n",
       "      <td>206.675926</td>\n",
       "      <td>258.635870</td>\n",
       "      <td>...</td>\n",
       "      <td>484.570652</td>\n",
       "      <td>180.074074</td>\n",
       "      <td>101.076087</td>\n",
       "      <td>192.351852</td>\n",
       "      <td>101.076087</td>\n",
       "      <td>192.351852</td>\n",
       "      <td>101.076087</td>\n",
       "      <td>221.000000</td>\n",
       "      <td>107.021739</td>\n",
       "      <td>standing</td>\n",
       "    </tr>\n",
       "  </tbody>\n",
       "</table>\n",
       "<p>5 rows × 37 columns</p>\n",
       "</div>"
      ],
      "text/plain": [
       "         Nose X      Nose Y      Neck X      Neck Y  Right Shoulder X  \\\n",
       "743  251.060185   78.500000  231.291667  146.760870        166.055556   \n",
       "744  158.888889   48.423913  165.000000  104.918478        117.638889   \n",
       "745  478.333333  118.711956  466.666667  193.456522        400.555556   \n",
       "746  142.347222   36.130435  141.064815   60.217391        120.546296   \n",
       "747  182.120370  109.994565  216.907407  160.532609        167.796296   \n",
       "\n",
       "     Right Shoulder Y  Right Elbow X  Right Elbow Y  Right Wrist X  \\\n",
       "743        143.347826     138.379630     228.673913     162.101852   \n",
       "744        107.608696      99.305556     166.793478     100.833333   \n",
       "745        189.059783     385.000000     281.391304     466.666667   \n",
       "746         58.711957      93.615741      81.293478      75.662037   \n",
       "747        163.505435     151.425926     225.934783     206.675926   \n",
       "\n",
       "     Right Wrist Y  ...  Left Ankle Y  Right Eye X  Right Eye Y  Left Eye X  \\\n",
       "743     303.760870  ...    573.391304   245.129630    64.847826  264.898148   \n",
       "744     220.597826  ...    435.815217   151.250000    40.353261  168.055556   \n",
       "745     285.788044  ...    690.288043   466.666667   105.521739  490.000000   \n",
       "746      63.228261  ...    245.385870   138.500000    31.614130  147.476852   \n",
       "747     258.635870  ...    484.570652   180.074074   101.076087  192.351852   \n",
       "\n",
       "     Left Eye Y  Right Ear X  Right Ear Y  Left Ear X  Left Ear Y  Activity  \n",
       "743   71.673913   225.361111    64.847826  276.759259   85.326087  standing  \n",
       "744   40.353261   140.555556    48.423913  183.333333   45.733696  standing  \n",
       "745  109.918478   443.333333   109.918478  505.555556  114.315217  standing  \n",
       "746   33.119565   133.370370    34.625000  152.606482   37.635870  standing  \n",
       "747  101.076087   192.351852   101.076087  221.000000  107.021739  standing  \n",
       "\n",
       "[5 rows x 37 columns]"
      ]
     },
     "execution_count": 5,
     "metadata": {},
     "output_type": "execute_result"
    }
   ],
   "source": [
    "pose.tail(5)"
   ]
  },
  {
   "cell_type": "code",
   "execution_count": 6,
   "metadata": {},
   "outputs": [
    {
     "name": "stdout",
     "output_type": "stream",
     "text": [
      "<class 'pandas.core.frame.DataFrame'>\n",
      "RangeIndex: 748 entries, 0 to 747\n",
      "Data columns (total 37 columns):\n",
      " #   Column            Non-Null Count  Dtype  \n",
      "---  ------            --------------  -----  \n",
      " 0   Nose X            748 non-null    float64\n",
      " 1   Nose Y            748 non-null    float64\n",
      " 2   Neck X            748 non-null    float64\n",
      " 3   Neck Y            748 non-null    float64\n",
      " 4   Right Shoulder X  748 non-null    float64\n",
      " 5   Right Shoulder Y  748 non-null    float64\n",
      " 6   Right Elbow X     748 non-null    float64\n",
      " 7   Right Elbow Y     748 non-null    float64\n",
      " 8   Right Wrist X     748 non-null    float64\n",
      " 9   Right Wrist Y     748 non-null    float64\n",
      " 10  Left Shoulder X   748 non-null    float64\n",
      " 11  Left Shoulder Y   748 non-null    float64\n",
      " 12  Left Elbow X      748 non-null    float64\n",
      " 13  Left Elbow Y      748 non-null    float64\n",
      " 14  Left Wrist X      748 non-null    float64\n",
      " 15  Left Wrist Y      748 non-null    float64\n",
      " 16  Right Hip X       748 non-null    float64\n",
      " 17  Right Hip Y       748 non-null    float64\n",
      " 18  Right Knee X      748 non-null    float64\n",
      " 19  Right Knee Y      748 non-null    float64\n",
      " 20  Right Ankle X     748 non-null    float64\n",
      " 21  Right Ankle Y     748 non-null    float64\n",
      " 22  Left Hip X        748 non-null    float64\n",
      " 23  Left Hip Y        748 non-null    float64\n",
      " 24  Left Knee X       748 non-null    float64\n",
      " 25  Left Knee Y       748 non-null    float64\n",
      " 26  Left Ankle X      748 non-null    float64\n",
      " 27  Left Ankle Y      748 non-null    float64\n",
      " 28  Right Eye X       748 non-null    float64\n",
      " 29  Right Eye Y       748 non-null    float64\n",
      " 30  Left Eye X        748 non-null    float64\n",
      " 31  Left Eye Y        748 non-null    float64\n",
      " 32  Right Ear X       748 non-null    float64\n",
      " 33  Right Ear Y       748 non-null    float64\n",
      " 34  Left Ear X        748 non-null    float64\n",
      " 35  Left Ear Y        748 non-null    float64\n",
      " 36  Activity          748 non-null    object \n",
      "dtypes: float64(36), object(1)\n",
      "memory usage: 216.3+ KB\n"
     ]
    }
   ],
   "source": [
    "pose.info()"
   ]
  },
  {
   "cell_type": "code",
   "execution_count": 7,
   "metadata": {},
   "outputs": [
    {
     "data": {
      "text/plain": [
       "(748, 37)"
      ]
     },
     "execution_count": 7,
     "metadata": {},
     "output_type": "execute_result"
    }
   ],
   "source": [
    "pose.shape\n"
   ]
  },
  {
   "cell_type": "code",
   "execution_count": 8,
   "metadata": {},
   "outputs": [],
   "source": [
    "from sklearn.model_selection import train_test_split\n",
    "train, test = train_test_split(pose, test_size=0.2)"
   ]
  },
  {
   "cell_type": "code",
   "execution_count": 9,
   "metadata": {},
   "outputs": [
    {
     "data": {
      "text/plain": [
       "(598, 37)"
      ]
     },
     "execution_count": 9,
     "metadata": {},
     "output_type": "execute_result"
    }
   ],
   "source": [
    "train.shape"
   ]
  },
  {
   "cell_type": "code",
   "execution_count": 10,
   "metadata": {},
   "outputs": [
    {
     "data": {
      "text/html": [
       "<div>\n",
       "<style scoped>\n",
       "    .dataframe tbody tr th:only-of-type {\n",
       "        vertical-align: middle;\n",
       "    }\n",
       "\n",
       "    .dataframe tbody tr th {\n",
       "        vertical-align: top;\n",
       "    }\n",
       "\n",
       "    .dataframe thead th {\n",
       "        text-align: right;\n",
       "    }\n",
       "</style>\n",
       "<table border=\"1\" class=\"dataframe\">\n",
       "  <thead>\n",
       "    <tr style=\"text-align: right;\">\n",
       "      <th></th>\n",
       "      <th>Nose X</th>\n",
       "      <th>Nose Y</th>\n",
       "      <th>Neck X</th>\n",
       "      <th>Neck Y</th>\n",
       "      <th>Right Shoulder X</th>\n",
       "      <th>Right Shoulder Y</th>\n",
       "      <th>Right Elbow X</th>\n",
       "      <th>Right Elbow Y</th>\n",
       "      <th>Right Wrist X</th>\n",
       "      <th>Right Wrist Y</th>\n",
       "      <th>...</th>\n",
       "      <th>Left Ankle Y</th>\n",
       "      <th>Right Eye X</th>\n",
       "      <th>Right Eye Y</th>\n",
       "      <th>Left Eye X</th>\n",
       "      <th>Left Eye Y</th>\n",
       "      <th>Right Ear X</th>\n",
       "      <th>Right Ear Y</th>\n",
       "      <th>Left Ear X</th>\n",
       "      <th>Left Ear Y</th>\n",
       "      <th>Activity</th>\n",
       "    </tr>\n",
       "  </thead>\n",
       "  <tbody>\n",
       "    <tr>\n",
       "      <th>445</th>\n",
       "      <td>588.888889</td>\n",
       "      <td>286.141304</td>\n",
       "      <td>588.888889</td>\n",
       "      <td>370.516304</td>\n",
       "      <td>522.222222</td>\n",
       "      <td>370.516304</td>\n",
       "      <td>483.333333</td>\n",
       "      <td>491.576087</td>\n",
       "      <td>555.555556</td>\n",
       "      <td>443.885870</td>\n",
       "      <td>...</td>\n",
       "      <td>590.625000</td>\n",
       "      <td>577.777778</td>\n",
       "      <td>275.135870</td>\n",
       "      <td>605.555556</td>\n",
       "      <td>275.13587</td>\n",
       "      <td>550.000000</td>\n",
       "      <td>286.141304</td>\n",
       "      <td>622.222222</td>\n",
       "      <td>282.472826</td>\n",
       "      <td>sitting</td>\n",
       "    </tr>\n",
       "    <tr>\n",
       "      <th>191</th>\n",
       "      <td>193.055556</td>\n",
       "      <td>73.369565</td>\n",
       "      <td>180.555556</td>\n",
       "      <td>102.717391</td>\n",
       "      <td>172.222222</td>\n",
       "      <td>105.978261</td>\n",
       "      <td>148.611111</td>\n",
       "      <td>102.717391</td>\n",
       "      <td>119.444444</td>\n",
       "      <td>97.826087</td>\n",
       "      <td>...</td>\n",
       "      <td>143.478261</td>\n",
       "      <td>188.888889</td>\n",
       "      <td>71.739130</td>\n",
       "      <td>188.888889</td>\n",
       "      <td>71.73913</td>\n",
       "      <td>179.166667</td>\n",
       "      <td>81.521739</td>\n",
       "      <td>179.166667</td>\n",
       "      <td>81.521739</td>\n",
       "      <td>dancing</td>\n",
       "    </tr>\n",
       "    <tr>\n",
       "      <th>376</th>\n",
       "      <td>249.500000</td>\n",
       "      <td>83.000000</td>\n",
       "      <td>271.500000</td>\n",
       "      <td>112.500000</td>\n",
       "      <td>233.000000</td>\n",
       "      <td>101.000000</td>\n",
       "      <td>174.500000</td>\n",
       "      <td>108.500000</td>\n",
       "      <td>97.500000</td>\n",
       "      <td>97.000000</td>\n",
       "      <td>...</td>\n",
       "      <td>244.000000</td>\n",
       "      <td>239.000000</td>\n",
       "      <td>75.500000</td>\n",
       "      <td>257.500000</td>\n",
       "      <td>70.50000</td>\n",
       "      <td>239.000000</td>\n",
       "      <td>75.500000</td>\n",
       "      <td>281.500000</td>\n",
       "      <td>69.500000</td>\n",
       "      <td>sitting</td>\n",
       "    </tr>\n",
       "    <tr>\n",
       "      <th>225</th>\n",
       "      <td>321.481481</td>\n",
       "      <td>102.500000</td>\n",
       "      <td>315.740741</td>\n",
       "      <td>140.000000</td>\n",
       "      <td>275.555556</td>\n",
       "      <td>140.000000</td>\n",
       "      <td>235.370370</td>\n",
       "      <td>185.000000</td>\n",
       "      <td>246.851852</td>\n",
       "      <td>202.500000</td>\n",
       "      <td>...</td>\n",
       "      <td>450.000000</td>\n",
       "      <td>312.870370</td>\n",
       "      <td>95.000000</td>\n",
       "      <td>330.092593</td>\n",
       "      <td>95.00000</td>\n",
       "      <td>298.518519</td>\n",
       "      <td>97.500000</td>\n",
       "      <td>338.703704</td>\n",
       "      <td>97.500000</td>\n",
       "      <td>running</td>\n",
       "    </tr>\n",
       "    <tr>\n",
       "      <th>598</th>\n",
       "      <td>162.500000</td>\n",
       "      <td>69.565217</td>\n",
       "      <td>156.481482</td>\n",
       "      <td>125.217391</td>\n",
       "      <td>115.856482</td>\n",
       "      <td>119.652174</td>\n",
       "      <td>111.342593</td>\n",
       "      <td>183.652174</td>\n",
       "      <td>173.032407</td>\n",
       "      <td>180.869565</td>\n",
       "      <td>...</td>\n",
       "      <td>453.565217</td>\n",
       "      <td>154.976852</td>\n",
       "      <td>61.217391</td>\n",
       "      <td>170.023148</td>\n",
       "      <td>64.00000</td>\n",
       "      <td>141.435185</td>\n",
       "      <td>66.782609</td>\n",
       "      <td>180.555556</td>\n",
       "      <td>69.565217</td>\n",
       "      <td>standing</td>\n",
       "    </tr>\n",
       "  </tbody>\n",
       "</table>\n",
       "<p>5 rows × 37 columns</p>\n",
       "</div>"
      ],
      "text/plain": [
       "         Nose X      Nose Y      Neck X      Neck Y  Right Shoulder X  \\\n",
       "445  588.888889  286.141304  588.888889  370.516304        522.222222   \n",
       "191  193.055556   73.369565  180.555556  102.717391        172.222222   \n",
       "376  249.500000   83.000000  271.500000  112.500000        233.000000   \n",
       "225  321.481481  102.500000  315.740741  140.000000        275.555556   \n",
       "598  162.500000   69.565217  156.481482  125.217391        115.856482   \n",
       "\n",
       "     Right Shoulder Y  Right Elbow X  Right Elbow Y  Right Wrist X  \\\n",
       "445        370.516304     483.333333     491.576087     555.555556   \n",
       "191        105.978261     148.611111     102.717391     119.444444   \n",
       "376        101.000000     174.500000     108.500000      97.500000   \n",
       "225        140.000000     235.370370     185.000000     246.851852   \n",
       "598        119.652174     111.342593     183.652174     173.032407   \n",
       "\n",
       "     Right Wrist Y  ...  Left Ankle Y  Right Eye X  Right Eye Y  Left Eye X  \\\n",
       "445     443.885870  ...    590.625000   577.777778   275.135870  605.555556   \n",
       "191      97.826087  ...    143.478261   188.888889    71.739130  188.888889   \n",
       "376      97.000000  ...    244.000000   239.000000    75.500000  257.500000   \n",
       "225     202.500000  ...    450.000000   312.870370    95.000000  330.092593   \n",
       "598     180.869565  ...    453.565217   154.976852    61.217391  170.023148   \n",
       "\n",
       "     Left Eye Y  Right Ear X  Right Ear Y  Left Ear X  Left Ear Y  Activity  \n",
       "445   275.13587   550.000000   286.141304  622.222222  282.472826   sitting  \n",
       "191    71.73913   179.166667    81.521739  179.166667   81.521739   dancing  \n",
       "376    70.50000   239.000000    75.500000  281.500000   69.500000   sitting  \n",
       "225    95.00000   298.518519    97.500000  338.703704   97.500000   running  \n",
       "598    64.00000   141.435185    66.782609  180.555556   69.565217  standing  \n",
       "\n",
       "[5 rows x 37 columns]"
      ]
     },
     "execution_count": 10,
     "metadata": {},
     "output_type": "execute_result"
    }
   ],
   "source": [
    "train.head(5)"
   ]
  },
  {
   "cell_type": "code",
   "execution_count": 11,
   "metadata": {},
   "outputs": [
    {
     "data": {
      "text/plain": [
       "(150, 37)"
      ]
     },
     "execution_count": 11,
     "metadata": {},
     "output_type": "execute_result"
    }
   ],
   "source": [
    "test.shape"
   ]
  },
  {
   "cell_type": "code",
   "execution_count": 12,
   "metadata": {},
   "outputs": [
    {
     "data": {
      "text/html": [
       "<div>\n",
       "<style scoped>\n",
       "    .dataframe tbody tr th:only-of-type {\n",
       "        vertical-align: middle;\n",
       "    }\n",
       "\n",
       "    .dataframe tbody tr th {\n",
       "        vertical-align: top;\n",
       "    }\n",
       "\n",
       "    .dataframe thead th {\n",
       "        text-align: right;\n",
       "    }\n",
       "</style>\n",
       "<table border=\"1\" class=\"dataframe\">\n",
       "  <thead>\n",
       "    <tr style=\"text-align: right;\">\n",
       "      <th></th>\n",
       "      <th>Nose X</th>\n",
       "      <th>Nose Y</th>\n",
       "      <th>Neck X</th>\n",
       "      <th>Neck Y</th>\n",
       "      <th>Right Shoulder X</th>\n",
       "      <th>Right Shoulder Y</th>\n",
       "      <th>Right Elbow X</th>\n",
       "      <th>Right Elbow Y</th>\n",
       "      <th>Right Wrist X</th>\n",
       "      <th>Right Wrist Y</th>\n",
       "      <th>...</th>\n",
       "      <th>Left Ankle Y</th>\n",
       "      <th>Right Eye X</th>\n",
       "      <th>Right Eye Y</th>\n",
       "      <th>Left Eye X</th>\n",
       "      <th>Left Eye Y</th>\n",
       "      <th>Right Ear X</th>\n",
       "      <th>Right Ear Y</th>\n",
       "      <th>Left Ear X</th>\n",
       "      <th>Left Ear Y</th>\n",
       "      <th>Activity</th>\n",
       "    </tr>\n",
       "  </thead>\n",
       "  <tbody>\n",
       "    <tr>\n",
       "      <th>8</th>\n",
       "      <td>396.296296</td>\n",
       "      <td>208.695652</td>\n",
       "      <td>377.777778</td>\n",
       "      <td>278.260870</td>\n",
       "      <td>362.962963</td>\n",
       "      <td>282.608696</td>\n",
       "      <td>362.962963</td>\n",
       "      <td>282.608696</td>\n",
       "      <td>362.962963</td>\n",
       "      <td>282.608696</td>\n",
       "      <td>...</td>\n",
       "      <td>273.913044</td>\n",
       "      <td>385.185185</td>\n",
       "      <td>200.000000</td>\n",
       "      <td>385.185185</td>\n",
       "      <td>200.000000</td>\n",
       "      <td>362.962963</td>\n",
       "      <td>217.391304</td>\n",
       "      <td>362.962963</td>\n",
       "      <td>217.391304</td>\n",
       "      <td>dancing</td>\n",
       "    </tr>\n",
       "    <tr>\n",
       "      <th>499</th>\n",
       "      <td>204.384259</td>\n",
       "      <td>90.489130</td>\n",
       "      <td>202.824074</td>\n",
       "      <td>141.847826</td>\n",
       "      <td>160.699074</td>\n",
       "      <td>146.739130</td>\n",
       "      <td>127.935185</td>\n",
       "      <td>220.108696</td>\n",
       "      <td>123.254630</td>\n",
       "      <td>242.119565</td>\n",
       "      <td>...</td>\n",
       "      <td>371.739130</td>\n",
       "      <td>196.583333</td>\n",
       "      <td>78.260870</td>\n",
       "      <td>213.745370</td>\n",
       "      <td>80.706522</td>\n",
       "      <td>184.101852</td>\n",
       "      <td>83.152174</td>\n",
       "      <td>227.787037</td>\n",
       "      <td>90.489130</td>\n",
       "      <td>sitting</td>\n",
       "    </tr>\n",
       "    <tr>\n",
       "      <th>171</th>\n",
       "      <td>92.250000</td>\n",
       "      <td>95.652174</td>\n",
       "      <td>84.375000</td>\n",
       "      <td>139.130435</td>\n",
       "      <td>68.625000</td>\n",
       "      <td>134.782609</td>\n",
       "      <td>68.625000</td>\n",
       "      <td>134.782609</td>\n",
       "      <td>68.625000</td>\n",
       "      <td>134.782609</td>\n",
       "      <td>...</td>\n",
       "      <td>134.782609</td>\n",
       "      <td>87.750000</td>\n",
       "      <td>86.956522</td>\n",
       "      <td>97.875000</td>\n",
       "      <td>89.130435</td>\n",
       "      <td>77.625000</td>\n",
       "      <td>86.956522</td>\n",
       "      <td>103.500000</td>\n",
       "      <td>97.826087</td>\n",
       "      <td>dancing</td>\n",
       "    </tr>\n",
       "    <tr>\n",
       "      <th>484</th>\n",
       "      <td>344.907407</td>\n",
       "      <td>59.543478</td>\n",
       "      <td>326.388889</td>\n",
       "      <td>97.434783</td>\n",
       "      <td>293.981481</td>\n",
       "      <td>101.043478</td>\n",
       "      <td>291.666667</td>\n",
       "      <td>147.956522</td>\n",
       "      <td>321.759259</td>\n",
       "      <td>175.021739</td>\n",
       "      <td>...</td>\n",
       "      <td>265.239130</td>\n",
       "      <td>335.648148</td>\n",
       "      <td>52.326087</td>\n",
       "      <td>342.592593</td>\n",
       "      <td>52.326087</td>\n",
       "      <td>312.500000</td>\n",
       "      <td>61.347826</td>\n",
       "      <td>312.500000</td>\n",
       "      <td>61.347826</td>\n",
       "      <td>sitting</td>\n",
       "    </tr>\n",
       "    <tr>\n",
       "      <th>233</th>\n",
       "      <td>440.740741</td>\n",
       "      <td>89.461957</td>\n",
       "      <td>437.037037</td>\n",
       "      <td>129.864130</td>\n",
       "      <td>407.407407</td>\n",
       "      <td>129.864130</td>\n",
       "      <td>392.592593</td>\n",
       "      <td>181.809783</td>\n",
       "      <td>392.592593</td>\n",
       "      <td>181.809783</td>\n",
       "      <td>...</td>\n",
       "      <td>421.336957</td>\n",
       "      <td>433.333333</td>\n",
       "      <td>83.690217</td>\n",
       "      <td>448.148148</td>\n",
       "      <td>83.690217</td>\n",
       "      <td>422.222222</td>\n",
       "      <td>89.461957</td>\n",
       "      <td>459.259259</td>\n",
       "      <td>89.461957</td>\n",
       "      <td>running</td>\n",
       "    </tr>\n",
       "  </tbody>\n",
       "</table>\n",
       "<p>5 rows × 37 columns</p>\n",
       "</div>"
      ],
      "text/plain": [
       "         Nose X      Nose Y      Neck X      Neck Y  Right Shoulder X  \\\n",
       "8    396.296296  208.695652  377.777778  278.260870        362.962963   \n",
       "499  204.384259   90.489130  202.824074  141.847826        160.699074   \n",
       "171   92.250000   95.652174   84.375000  139.130435         68.625000   \n",
       "484  344.907407   59.543478  326.388889   97.434783        293.981481   \n",
       "233  440.740741   89.461957  437.037037  129.864130        407.407407   \n",
       "\n",
       "     Right Shoulder Y  Right Elbow X  Right Elbow Y  Right Wrist X  \\\n",
       "8          282.608696     362.962963     282.608696     362.962963   \n",
       "499        146.739130     127.935185     220.108696     123.254630   \n",
       "171        134.782609      68.625000     134.782609      68.625000   \n",
       "484        101.043478     291.666667     147.956522     321.759259   \n",
       "233        129.864130     392.592593     181.809783     392.592593   \n",
       "\n",
       "     Right Wrist Y  ...  Left Ankle Y  Right Eye X  Right Eye Y  Left Eye X  \\\n",
       "8       282.608696  ...    273.913044   385.185185   200.000000  385.185185   \n",
       "499     242.119565  ...    371.739130   196.583333    78.260870  213.745370   \n",
       "171     134.782609  ...    134.782609    87.750000    86.956522   97.875000   \n",
       "484     175.021739  ...    265.239130   335.648148    52.326087  342.592593   \n",
       "233     181.809783  ...    421.336957   433.333333    83.690217  448.148148   \n",
       "\n",
       "     Left Eye Y  Right Ear X  Right Ear Y  Left Ear X  Left Ear Y  Activity  \n",
       "8    200.000000   362.962963   217.391304  362.962963  217.391304   dancing  \n",
       "499   80.706522   184.101852    83.152174  227.787037   90.489130   sitting  \n",
       "171   89.130435    77.625000    86.956522  103.500000   97.826087   dancing  \n",
       "484   52.326087   312.500000    61.347826  312.500000   61.347826   sitting  \n",
       "233   83.690217   422.222222    89.461957  459.259259   89.461957   running  \n",
       "\n",
       "[5 rows x 37 columns]"
      ]
     },
     "execution_count": 12,
     "metadata": {},
     "output_type": "execute_result"
    }
   ],
   "source": [
    "test.head(5)"
   ]
  },
  {
   "cell_type": "code",
   "execution_count": 13,
   "metadata": {},
   "outputs": [
    {
     "data": {
      "text/html": [
       "<div>\n",
       "<style scoped>\n",
       "    .dataframe tbody tr th:only-of-type {\n",
       "        vertical-align: middle;\n",
       "    }\n",
       "\n",
       "    .dataframe tbody tr th {\n",
       "        vertical-align: top;\n",
       "    }\n",
       "\n",
       "    .dataframe thead th {\n",
       "        text-align: right;\n",
       "    }\n",
       "</style>\n",
       "<table border=\"1\" class=\"dataframe\">\n",
       "  <thead>\n",
       "    <tr style=\"text-align: right;\">\n",
       "      <th></th>\n",
       "      <th>Nose X</th>\n",
       "      <th>Nose Y</th>\n",
       "      <th>Neck X</th>\n",
       "      <th>Neck Y</th>\n",
       "      <th>Right Shoulder X</th>\n",
       "      <th>Right Shoulder Y</th>\n",
       "      <th>Right Elbow X</th>\n",
       "      <th>Right Elbow Y</th>\n",
       "      <th>Right Wrist X</th>\n",
       "      <th>Right Wrist Y</th>\n",
       "      <th>...</th>\n",
       "      <th>Left Ankle X</th>\n",
       "      <th>Left Ankle Y</th>\n",
       "      <th>Right Eye X</th>\n",
       "      <th>Right Eye Y</th>\n",
       "      <th>Left Eye X</th>\n",
       "      <th>Left Eye Y</th>\n",
       "      <th>Right Ear X</th>\n",
       "      <th>Right Ear Y</th>\n",
       "      <th>Left Ear X</th>\n",
       "      <th>Left Ear Y</th>\n",
       "    </tr>\n",
       "  </thead>\n",
       "  <tbody>\n",
       "    <tr>\n",
       "      <th>445</th>\n",
       "      <td>588.888889</td>\n",
       "      <td>286.141304</td>\n",
       "      <td>588.888889</td>\n",
       "      <td>370.516304</td>\n",
       "      <td>522.222222</td>\n",
       "      <td>370.516304</td>\n",
       "      <td>483.333333</td>\n",
       "      <td>491.576087</td>\n",
       "      <td>555.555556</td>\n",
       "      <td>443.885870</td>\n",
       "      <td>...</td>\n",
       "      <td>722.222222</td>\n",
       "      <td>590.625000</td>\n",
       "      <td>577.777778</td>\n",
       "      <td>275.135870</td>\n",
       "      <td>605.555556</td>\n",
       "      <td>275.13587</td>\n",
       "      <td>550.000000</td>\n",
       "      <td>286.141304</td>\n",
       "      <td>622.222222</td>\n",
       "      <td>282.472826</td>\n",
       "    </tr>\n",
       "    <tr>\n",
       "      <th>191</th>\n",
       "      <td>193.055556</td>\n",
       "      <td>73.369565</td>\n",
       "      <td>180.555556</td>\n",
       "      <td>102.717391</td>\n",
       "      <td>172.222222</td>\n",
       "      <td>105.978261</td>\n",
       "      <td>148.611111</td>\n",
       "      <td>102.717391</td>\n",
       "      <td>119.444444</td>\n",
       "      <td>97.826087</td>\n",
       "      <td>...</td>\n",
       "      <td>191.666667</td>\n",
       "      <td>143.478261</td>\n",
       "      <td>188.888889</td>\n",
       "      <td>71.739130</td>\n",
       "      <td>188.888889</td>\n",
       "      <td>71.73913</td>\n",
       "      <td>179.166667</td>\n",
       "      <td>81.521739</td>\n",
       "      <td>179.166667</td>\n",
       "      <td>81.521739</td>\n",
       "    </tr>\n",
       "    <tr>\n",
       "      <th>376</th>\n",
       "      <td>249.500000</td>\n",
       "      <td>83.000000</td>\n",
       "      <td>271.500000</td>\n",
       "      <td>112.500000</td>\n",
       "      <td>233.000000</td>\n",
       "      <td>101.000000</td>\n",
       "      <td>174.500000</td>\n",
       "      <td>108.500000</td>\n",
       "      <td>97.500000</td>\n",
       "      <td>97.000000</td>\n",
       "      <td>...</td>\n",
       "      <td>190.000000</td>\n",
       "      <td>244.000000</td>\n",
       "      <td>239.000000</td>\n",
       "      <td>75.500000</td>\n",
       "      <td>257.500000</td>\n",
       "      <td>70.50000</td>\n",
       "      <td>239.000000</td>\n",
       "      <td>75.500000</td>\n",
       "      <td>281.500000</td>\n",
       "      <td>69.500000</td>\n",
       "    </tr>\n",
       "    <tr>\n",
       "      <th>225</th>\n",
       "      <td>321.481481</td>\n",
       "      <td>102.500000</td>\n",
       "      <td>315.740741</td>\n",
       "      <td>140.000000</td>\n",
       "      <td>275.555556</td>\n",
       "      <td>140.000000</td>\n",
       "      <td>235.370370</td>\n",
       "      <td>185.000000</td>\n",
       "      <td>246.851852</td>\n",
       "      <td>202.500000</td>\n",
       "      <td>...</td>\n",
       "      <td>278.425926</td>\n",
       "      <td>450.000000</td>\n",
       "      <td>312.870370</td>\n",
       "      <td>95.000000</td>\n",
       "      <td>330.092593</td>\n",
       "      <td>95.00000</td>\n",
       "      <td>298.518519</td>\n",
       "      <td>97.500000</td>\n",
       "      <td>338.703704</td>\n",
       "      <td>97.500000</td>\n",
       "    </tr>\n",
       "    <tr>\n",
       "      <th>598</th>\n",
       "      <td>162.500000</td>\n",
       "      <td>69.565217</td>\n",
       "      <td>156.481482</td>\n",
       "      <td>125.217391</td>\n",
       "      <td>115.856482</td>\n",
       "      <td>119.652174</td>\n",
       "      <td>111.342593</td>\n",
       "      <td>183.652174</td>\n",
       "      <td>173.032407</td>\n",
       "      <td>180.869565</td>\n",
       "      <td>...</td>\n",
       "      <td>207.638889</td>\n",
       "      <td>453.565217</td>\n",
       "      <td>154.976852</td>\n",
       "      <td>61.217391</td>\n",
       "      <td>170.023148</td>\n",
       "      <td>64.00000</td>\n",
       "      <td>141.435185</td>\n",
       "      <td>66.782609</td>\n",
       "      <td>180.555556</td>\n",
       "      <td>69.565217</td>\n",
       "    </tr>\n",
       "  </tbody>\n",
       "</table>\n",
       "<p>5 rows × 36 columns</p>\n",
       "</div>"
      ],
      "text/plain": [
       "         Nose X      Nose Y      Neck X      Neck Y  Right Shoulder X  \\\n",
       "445  588.888889  286.141304  588.888889  370.516304        522.222222   \n",
       "191  193.055556   73.369565  180.555556  102.717391        172.222222   \n",
       "376  249.500000   83.000000  271.500000  112.500000        233.000000   \n",
       "225  321.481481  102.500000  315.740741  140.000000        275.555556   \n",
       "598  162.500000   69.565217  156.481482  125.217391        115.856482   \n",
       "\n",
       "     Right Shoulder Y  Right Elbow X  Right Elbow Y  Right Wrist X  \\\n",
       "445        370.516304     483.333333     491.576087     555.555556   \n",
       "191        105.978261     148.611111     102.717391     119.444444   \n",
       "376        101.000000     174.500000     108.500000      97.500000   \n",
       "225        140.000000     235.370370     185.000000     246.851852   \n",
       "598        119.652174     111.342593     183.652174     173.032407   \n",
       "\n",
       "     Right Wrist Y  ...  Left Ankle X  Left Ankle Y  Right Eye X  Right Eye Y  \\\n",
       "445     443.885870  ...    722.222222    590.625000   577.777778   275.135870   \n",
       "191      97.826087  ...    191.666667    143.478261   188.888889    71.739130   \n",
       "376      97.000000  ...    190.000000    244.000000   239.000000    75.500000   \n",
       "225     202.500000  ...    278.425926    450.000000   312.870370    95.000000   \n",
       "598     180.869565  ...    207.638889    453.565217   154.976852    61.217391   \n",
       "\n",
       "     Left Eye X  Left Eye Y  Right Ear X  Right Ear Y  Left Ear X  Left Ear Y  \n",
       "445  605.555556   275.13587   550.000000   286.141304  622.222222  282.472826  \n",
       "191  188.888889    71.73913   179.166667    81.521739  179.166667   81.521739  \n",
       "376  257.500000    70.50000   239.000000    75.500000  281.500000   69.500000  \n",
       "225  330.092593    95.00000   298.518519    97.500000  338.703704   97.500000  \n",
       "598  170.023148    64.00000   141.435185    66.782609  180.555556   69.565217  \n",
       "\n",
       "[5 rows x 36 columns]"
      ]
     },
     "execution_count": 13,
     "metadata": {},
     "output_type": "execute_result"
    }
   ],
   "source": [
    "train.iloc[:,:36].head(5)"
   ]
  },
  {
   "cell_type": "code",
   "execution_count": 14,
   "metadata": {},
   "outputs": [],
   "source": [
    "train_feat = train.iloc[:,:36]\n",
    "train_targ = train[\"Activity\"]"
   ]
  },
  {
   "cell_type": "code",
   "execution_count": 15,
   "metadata": {},
   "outputs": [
    {
     "data": {
      "text/plain": [
       "(598, 36)"
      ]
     },
     "execution_count": 15,
     "metadata": {},
     "output_type": "execute_result"
    }
   ],
   "source": [
    "train_feat.shape"
   ]
  },
  {
   "cell_type": "code",
   "execution_count": 16,
   "metadata": {},
   "outputs": [
    {
     "data": {
      "text/plain": [
       "(598,)"
      ]
     },
     "execution_count": 16,
     "metadata": {},
     "output_type": "execute_result"
    }
   ],
   "source": [
    "train_targ.shape"
   ]
  },
  {
   "cell_type": "code",
   "execution_count": 17,
   "metadata": {},
   "outputs": [
    {
     "data": {
      "text/plain": [
       "pandas.core.series.Series"
      ]
     },
     "execution_count": 17,
     "metadata": {},
     "output_type": "execute_result"
    }
   ],
   "source": [
    "type(train_targ)"
   ]
  },
  {
   "cell_type": "code",
   "execution_count": 18,
   "metadata": {},
   "outputs": [
    {
     "data": {
      "text/plain": [
       "pandas.core.frame.DataFrame"
      ]
     },
     "execution_count": 18,
     "metadata": {},
     "output_type": "execute_result"
    }
   ],
   "source": [
    "type(train_feat)"
   ]
  },
  {
   "cell_type": "code",
   "execution_count": 19,
   "metadata": {},
   "outputs": [
    {
     "name": "stderr",
     "output_type": "stream",
     "text": [
      "C:\\ProgramData\\Anaconda3\\lib\\site-packages\\sklearn\\linear_model\\_logistic.py:762: ConvergenceWarning: lbfgs failed to converge (status=1):\n",
      "STOP: TOTAL NO. of ITERATIONS REACHED LIMIT.\n",
      "\n",
      "Increase the number of iterations (max_iter) or scale the data as shown in:\n",
      "    https://scikit-learn.org/stable/modules/preprocessing.html\n",
      "Please also refer to the documentation for alternative solver options:\n",
      "    https://scikit-learn.org/stable/modules/linear_model.html#logistic-regression\n",
      "  n_iter_i = _check_optimize_result(\n"
     ]
    },
    {
     "data": {
      "text/plain": [
       "LogisticRegression()"
      ]
     },
     "execution_count": 19,
     "metadata": {},
     "output_type": "execute_result"
    }
   ],
   "source": [
    "lr.fit(train_feat, train_targ)"
   ]
  },
  {
   "cell_type": "code",
   "execution_count": 20,
   "metadata": {},
   "outputs": [
    {
     "data": {
      "text/plain": [
       "0.8478260869565217"
      ]
     },
     "execution_count": 20,
     "metadata": {},
     "output_type": "execute_result"
    }
   ],
   "source": [
    "lr.score(train_feat, train_targ)    #how good our model is?"
   ]
  },
  {
   "cell_type": "code",
   "execution_count": 21,
   "metadata": {},
   "outputs": [
    {
     "data": {
      "text/plain": [
       "array([[ 0.0066099 ,  0.01358327,  0.00444194,  0.01016566,  0.01438849,\n",
       "         0.0113556 ,  0.03100213, -0.012745  , -0.02655263, -0.00650041,\n",
       "        -0.01924362, -0.00681159, -0.03232643, -0.02372392,  0.02186148,\n",
       "         0.00323138,  0.01198276, -0.01156864, -0.00225214,  0.02208777,\n",
       "         0.03293007, -0.00297617, -0.02942725, -0.00101762, -0.0159974 ,\n",
       "         0.01627098,  0.00539511, -0.00123998, -0.0139004 ,  0.01682518,\n",
       "         0.00425474,  0.0116925 ,  0.01391103, -0.0008596 , -0.00472792,\n",
       "        -0.01845129],\n",
       "       [-0.00620302, -0.01370631, -0.00905171, -0.01211512,  0.01986138,\n",
       "        -0.0128125 ,  0.00575154,  0.00828999,  0.00819886,  0.00828434,\n",
       "        -0.02227193, -0.00787221,  0.0045071 , -0.00197024, -0.01162541,\n",
       "        -0.00194179,  0.0145224 , -0.00997877,  0.04642474,  0.0408344 ,\n",
       "         0.00415585, -0.00934513, -0.01369277, -0.01991261, -0.03877389,\n",
       "         0.01458888, -0.01843126,  0.00741764,  0.02941783,  0.01334902,\n",
       "        -0.01221185, -0.00828852,  0.00581846, -0.00369424, -0.00744009,\n",
       "         0.01534451],\n",
       "       [-0.00194187,  0.00416621, -0.00412171,  0.00392682, -0.0224036 ,\n",
       "         0.00287915, -0.01670039,  0.01563748,  0.00289547, -0.02649806,\n",
       "         0.02032242,  0.01910479,  0.02995707,  0.03188851,  0.01463216,\n",
       "        -0.00403056, -0.02784476,  0.05001073, -0.04109654, -0.05629288,\n",
       "        -0.01533049, -0.00104508,  0.01844869,  0.04373132,  0.04914726,\n",
       "        -0.06430074,  0.01366459, -0.00343653, -0.0104301 , -0.02107507,\n",
       "        -0.0020603 , -0.00935329, -0.01100814,  0.00048463,  0.00699954,\n",
       "        -0.00267885],\n",
       "       [ 0.00153499, -0.00404317,  0.00873149, -0.00197736, -0.01184628,\n",
       "        -0.00142226, -0.02005328, -0.01118247,  0.0154583 ,  0.02471413,\n",
       "         0.02119312, -0.00442099, -0.00213774, -0.00619435, -0.02486823,\n",
       "         0.00274098,  0.00133959, -0.02846332, -0.00307607, -0.00662929,\n",
       "        -0.02175543,  0.01336638,  0.02467132, -0.02280109,  0.00562403,\n",
       "         0.03344089, -0.00062844, -0.00274113, -0.00508733, -0.00909913,\n",
       "         0.01001741,  0.00594932, -0.00872135,  0.00406921,  0.00516847,\n",
       "         0.00578563]])"
      ]
     },
     "execution_count": 21,
     "metadata": {},
     "output_type": "execute_result"
    }
   ],
   "source": [
    "lr.coef_"
   ]
  },
  {
   "cell_type": "markdown",
   "metadata": {},
   "source": [
    "# seting test data"
   ]
  },
  {
   "cell_type": "code",
   "execution_count": 22,
   "metadata": {},
   "outputs": [
    {
     "name": "stderr",
     "output_type": "stream",
     "text": [
      "C:\\ProgramData\\Anaconda3\\lib\\site-packages\\sklearn\\linear_model\\_logistic.py:762: ConvergenceWarning: lbfgs failed to converge (status=1):\n",
      "STOP: TOTAL NO. of ITERATIONS REACHED LIMIT.\n",
      "\n",
      "Increase the number of iterations (max_iter) or scale the data as shown in:\n",
      "    https://scikit-learn.org/stable/modules/preprocessing.html\n",
      "Please also refer to the documentation for alternative solver options:\n",
      "    https://scikit-learn.org/stable/modules/linear_model.html#logistic-regression\n",
      "  n_iter_i = _check_optimize_result(\n"
     ]
    },
    {
     "data": {
      "text/plain": [
       "LogisticRegression()"
      ]
     },
     "execution_count": 22,
     "metadata": {},
     "output_type": "execute_result"
    }
   ],
   "source": [
    "lr.fit(train_feat, train_targ)"
   ]
  },
  {
   "cell_type": "code",
   "execution_count": 23,
   "metadata": {},
   "outputs": [],
   "source": [
    "test_feat = test.iloc[:,:36]\n",
    "test_targ = test[\"Activity\"]"
   ]
  },
  {
   "cell_type": "code",
   "execution_count": 24,
   "metadata": {},
   "outputs": [
    {
     "data": {
      "text/plain": [
       "0.8478260869565217"
      ]
     },
     "execution_count": 24,
     "metadata": {},
     "output_type": "execute_result"
    }
   ],
   "source": [
    "lr.score(train_feat, train_targ)"
   ]
  },
  {
   "cell_type": "code",
   "execution_count": 25,
   "metadata": {},
   "outputs": [
    {
     "data": {
      "text/plain": [
       "0.82"
      ]
     },
     "execution_count": 25,
     "metadata": {},
     "output_type": "execute_result"
    }
   ],
   "source": [
    "lr.score(test_feat, test_targ)"
   ]
  },
  {
   "cell_type": "code",
   "execution_count": 26,
   "metadata": {},
   "outputs": [
    {
     "data": {
      "text/plain": [
       "array(['dancing', 'standing', 'dancing', 'sitting', 'running', 'running',\n",
       "       'running', 'sitting', 'standing', 'standing', 'dancing', 'running',\n",
       "       'standing', 'dancing', 'dancing', 'running', 'standing', 'sitting',\n",
       "       'running', 'running', 'sitting', 'running', 'running', 'sitting',\n",
       "       'running', 'running', 'dancing', 'standing', 'dancing', 'dancing',\n",
       "       'running', 'standing', 'standing', 'standing', 'dancing',\n",
       "       'sitting', 'sitting', 'dancing', 'standing', 'running', 'sitting',\n",
       "       'standing', 'standing', 'standing', 'sitting', 'running',\n",
       "       'dancing', 'sitting', 'sitting', 'sitting', 'dancing', 'standing',\n",
       "       'running', 'running', 'sitting', 'dancing', 'sitting', 'dancing',\n",
       "       'running', 'standing', 'standing', 'running', 'sitting', 'dancing',\n",
       "       'dancing', 'dancing', 'dancing', 'running', 'running', 'dancing',\n",
       "       'running', 'running', 'dancing', 'dancing', 'sitting', 'running',\n",
       "       'running', 'standing', 'dancing', 'running', 'standing', 'dancing',\n",
       "       'dancing', 'running', 'sitting', 'standing', 'sitting', 'sitting',\n",
       "       'standing', 'dancing', 'dancing', 'dancing', 'dancing', 'dancing',\n",
       "       'running', 'sitting', 'sitting', 'running', 'standing', 'running',\n",
       "       'running', 'running', 'standing', 'standing', 'sitting', 'running',\n",
       "       'standing', 'standing', 'standing', 'sitting', 'sitting',\n",
       "       'sitting', 'running', 'running', 'running', 'running', 'dancing',\n",
       "       'running', 'standing', 'standing', 'standing', 'running',\n",
       "       'running', 'dancing', 'dancing', 'running', 'standing', 'dancing',\n",
       "       'standing', 'sitting', 'dancing', 'sitting', 'dancing', 'standing',\n",
       "       'standing', 'running', 'standing', 'standing', 'dancing',\n",
       "       'dancing', 'running', 'standing', 'running', 'sitting', 'standing',\n",
       "       'dancing', 'sitting', 'sitting', 'standing', 'sitting'],\n",
       "      dtype=object)"
      ]
     },
     "execution_count": 26,
     "metadata": {},
     "output_type": "execute_result"
    }
   ],
   "source": [
    "lr.predict(test_feat)"
   ]
  },
  {
   "cell_type": "code",
   "execution_count": 27,
   "metadata": {},
   "outputs": [],
   "source": [
    "from sklearn.metrics import confusion_matrix"
   ]
  },
  {
   "cell_type": "code",
   "execution_count": 28,
   "metadata": {},
   "outputs": [
    {
     "data": {
      "text/plain": [
       "array([[134,  13,   1,  17],\n",
       "       [ 23, 118,   1,  16],\n",
       "       [  3,   0, 130,   3],\n",
       "       [  4,   5,   5, 125]], dtype=int64)"
      ]
     },
     "execution_count": 28,
     "metadata": {},
     "output_type": "execute_result"
    }
   ],
   "source": [
    "confusion_matrix(lr.predict(train_feat), train_targ)"
   ]
  },
  {
   "cell_type": "code",
   "execution_count": 29,
   "metadata": {},
   "outputs": [
    {
     "data": {
      "text/plain": [
       "array([[30,  3,  0,  5],\n",
       "       [ 5, 32,  1,  5],\n",
       "       [ 1,  0, 30,  0],\n",
       "       [ 0,  3,  4, 31]], dtype=int64)"
      ]
     },
     "execution_count": 29,
     "metadata": {},
     "output_type": "execute_result"
    }
   ],
   "source": [
    "confusion_matrix(lr.predict(test_feat), test_targ)"
   ]
  },
  {
   "cell_type": "markdown",
   "metadata": {},
   "source": [
    "# Random Forest Classifier"
   ]
  },
  {
   "cell_type": "code",
   "execution_count": 30,
   "metadata": {},
   "outputs": [
    {
     "data": {
      "text/plain": [
       "RandomForestClassifier()"
      ]
     },
     "execution_count": 30,
     "metadata": {},
     "output_type": "execute_result"
    }
   ],
   "source": [
    "rfc.fit(train_feat, train_targ)"
   ]
  },
  {
   "cell_type": "code",
   "execution_count": 31,
   "metadata": {},
   "outputs": [
    {
     "data": {
      "text/plain": [
       "1.0"
      ]
     },
     "execution_count": 31,
     "metadata": {},
     "output_type": "execute_result"
    }
   ],
   "source": [
    "rfc.score(train_feat, train_targ)"
   ]
  },
  {
   "cell_type": "code",
   "execution_count": 32,
   "metadata": {},
   "outputs": [
    {
     "data": {
      "text/plain": [
       "1.0"
      ]
     },
     "execution_count": 32,
     "metadata": {},
     "output_type": "execute_result"
    }
   ],
   "source": [
    "rfc.score(test_feat, test_targ)"
   ]
  },
  {
   "cell_type": "code",
   "execution_count": 33,
   "metadata": {},
   "outputs": [
    {
     "data": {
      "text/plain": [
       "array(['sitting', 'dancing', 'sitting', 'running', 'standing', 'sitting',\n",
       "       'standing', 'running', 'dancing', 'dancing', 'sitting', 'running',\n",
       "       'standing', 'standing', 'dancing', 'standing', 'dancing',\n",
       "       'standing', 'sitting', 'dancing', 'standing', 'dancing',\n",
       "       'standing', 'sitting', 'sitting', 'dancing', 'dancing', 'sitting',\n",
       "       'standing', 'sitting', 'dancing', 'standing', 'dancing',\n",
       "       'standing', 'standing', 'standing', 'dancing', 'dancing',\n",
       "       'running', 'dancing', 'running', 'sitting', 'standing', 'sitting',\n",
       "       'running', 'sitting', 'running', 'standing', 'dancing', 'standing',\n",
       "       'sitting', 'dancing', 'running', 'running', 'sitting', 'sitting',\n",
       "       'running', 'dancing', 'running', 'standing', 'sitting', 'sitting',\n",
       "       'standing', 'sitting', 'running', 'sitting', 'dancing', 'dancing',\n",
       "       'running', 'standing', 'running', 'standing', 'dancing', 'running',\n",
       "       'sitting', 'standing', 'sitting', 'standing', 'dancing', 'sitting',\n",
       "       'dancing', 'running', 'standing', 'standing', 'sitting', 'dancing',\n",
       "       'running', 'running', 'standing', 'dancing', 'standing', 'dancing',\n",
       "       'dancing', 'sitting', 'standing', 'dancing', 'running', 'standing',\n",
       "       'standing', 'sitting', 'running', 'dancing', 'standing', 'running',\n",
       "       'dancing', 'standing', 'dancing', 'dancing', 'standing',\n",
       "       'standing', 'running', 'standing', 'dancing', 'sitting',\n",
       "       'standing', 'standing', 'sitting', 'sitting', 'standing',\n",
       "       'standing', 'sitting', 'sitting', 'standing', 'dancing', 'running',\n",
       "       'sitting', 'sitting', 'sitting', 'standing', 'dancing', 'running',\n",
       "       'sitting', 'standing', 'standing', 'dancing', 'running', 'running',\n",
       "       'running', 'dancing', 'standing', 'running', 'running', 'sitting',\n",
       "       'standing', 'sitting', 'sitting', 'sitting', 'running', 'standing',\n",
       "       'running', 'standing', 'dancing', 'dancing', 'dancing', 'running',\n",
       "       'dancing', 'sitting', 'dancing', 'running', 'dancing', 'standing',\n",
       "       'sitting', 'standing', 'dancing', 'dancing', 'dancing', 'standing',\n",
       "       'running', 'dancing', 'sitting', 'sitting', 'dancing', 'standing',\n",
       "       'standing', 'dancing', 'dancing', 'running', 'standing', 'dancing',\n",
       "       'sitting', 'dancing', 'sitting', 'dancing', 'sitting', 'standing',\n",
       "       'sitting', 'running', 'dancing', 'sitting', 'dancing', 'dancing',\n",
       "       'running', 'dancing', 'sitting', 'standing', 'running', 'running',\n",
       "       'running', 'dancing', 'dancing', 'sitting', 'standing', 'dancing',\n",
       "       'running', 'dancing', 'standing', 'sitting', 'standing', 'dancing',\n",
       "       'standing', 'standing', 'standing', 'dancing', 'standing',\n",
       "       'dancing', 'standing', 'running', 'standing', 'standing',\n",
       "       'sitting', 'running', 'sitting', 'dancing', 'sitting', 'sitting',\n",
       "       'standing', 'dancing', 'dancing', 'dancing', 'dancing', 'sitting',\n",
       "       'standing', 'standing', 'standing', 'running', 'dancing',\n",
       "       'standing', 'running', 'sitting', 'dancing', 'dancing', 'sitting',\n",
       "       'sitting', 'running', 'dancing', 'sitting', 'dancing', 'standing',\n",
       "       'running', 'dancing', 'dancing', 'running', 'dancing', 'dancing',\n",
       "       'sitting', 'dancing', 'sitting', 'standing', 'sitting', 'standing',\n",
       "       'dancing', 'dancing', 'standing', 'standing', 'standing',\n",
       "       'standing', 'sitting', 'standing', 'running', 'dancing', 'dancing',\n",
       "       'dancing', 'dancing', 'standing', 'standing', 'running', 'running',\n",
       "       'running', 'dancing', 'running', 'running', 'standing', 'running',\n",
       "       'running', 'sitting', 'running', 'running', 'standing', 'running',\n",
       "       'dancing', 'standing', 'standing', 'running', 'dancing', 'sitting',\n",
       "       'running', 'dancing', 'dancing', 'sitting', 'dancing', 'standing',\n",
       "       'standing', 'sitting', 'sitting', 'standing', 'dancing', 'running',\n",
       "       'dancing', 'sitting', 'standing', 'standing', 'running',\n",
       "       'standing', 'dancing', 'running', 'standing', 'dancing', 'dancing',\n",
       "       'standing', 'running', 'dancing', 'running', 'standing',\n",
       "       'standing', 'running', 'sitting', 'sitting', 'sitting', 'running',\n",
       "       'dancing', 'sitting', 'standing', 'running', 'standing', 'running',\n",
       "       'dancing', 'standing', 'dancing', 'standing', 'running', 'dancing',\n",
       "       'dancing', 'sitting', 'sitting', 'running', 'standing', 'standing',\n",
       "       'running', 'sitting', 'standing', 'dancing', 'dancing', 'dancing',\n",
       "       'standing', 'standing', 'dancing', 'sitting', 'sitting', 'dancing',\n",
       "       'sitting', 'standing', 'sitting', 'dancing', 'running', 'standing',\n",
       "       'dancing', 'standing', 'dancing', 'running', 'dancing', 'running',\n",
       "       'dancing', 'standing', 'sitting', 'standing', 'sitting', 'sitting',\n",
       "       'sitting', 'standing', 'standing', 'running', 'dancing',\n",
       "       'standing', 'running', 'dancing', 'running', 'running', 'sitting',\n",
       "       'running', 'dancing', 'running', 'running', 'dancing', 'running',\n",
       "       'dancing', 'dancing', 'running', 'sitting', 'running', 'running',\n",
       "       'running', 'sitting', 'dancing', 'sitting', 'running', 'sitting',\n",
       "       'running', 'standing', 'standing', 'dancing', 'running', 'running',\n",
       "       'standing', 'standing', 'standing', 'running', 'running',\n",
       "       'standing', 'standing', 'dancing', 'running', 'dancing', 'sitting',\n",
       "       'running', 'standing', 'standing', 'sitting', 'standing',\n",
       "       'running', 'running', 'sitting', 'standing', 'running', 'running',\n",
       "       'sitting', 'dancing', 'sitting', 'standing', 'sitting', 'standing',\n",
       "       'standing', 'dancing', 'standing', 'running', 'running', 'sitting',\n",
       "       'running', 'sitting', 'sitting', 'sitting', 'dancing', 'standing',\n",
       "       'standing', 'dancing', 'sitting', 'sitting', 'sitting', 'dancing',\n",
       "       'standing', 'running', 'dancing', 'running', 'dancing', 'running',\n",
       "       'running', 'running', 'dancing', 'running', 'dancing', 'sitting',\n",
       "       'dancing', 'dancing', 'dancing', 'sitting', 'running', 'dancing',\n",
       "       'dancing', 'standing', 'standing', 'running', 'standing',\n",
       "       'dancing', 'dancing', 'sitting', 'dancing', 'standing', 'dancing',\n",
       "       'dancing', 'running', 'standing', 'running', 'sitting', 'sitting',\n",
       "       'sitting', 'sitting', 'dancing', 'dancing', 'sitting', 'dancing',\n",
       "       'sitting', 'running', 'dancing', 'standing', 'standing', 'sitting',\n",
       "       'sitting', 'standing', 'dancing', 'running', 'sitting', 'sitting',\n",
       "       'standing', 'standing', 'sitting', 'sitting', 'running', 'sitting',\n",
       "       'standing', 'standing', 'sitting', 'sitting', 'sitting', 'dancing',\n",
       "       'standing', 'standing', 'running', 'dancing', 'standing',\n",
       "       'standing', 'sitting', 'standing', 'running', 'running', 'sitting',\n",
       "       'running', 'sitting', 'dancing', 'dancing', 'standing', 'sitting',\n",
       "       'sitting', 'standing', 'standing', 'standing', 'running',\n",
       "       'running', 'standing', 'dancing', 'running', 'dancing', 'dancing',\n",
       "       'standing', 'sitting', 'standing', 'running', 'running', 'running',\n",
       "       'dancing', 'sitting', 'standing', 'dancing', 'running', 'standing',\n",
       "       'standing', 'running', 'dancing', 'sitting', 'standing', 'sitting',\n",
       "       'sitting', 'running', 'standing', 'sitting', 'dancing', 'sitting',\n",
       "       'running', 'running', 'dancing', 'sitting', 'standing', 'running',\n",
       "       'running', 'dancing', 'dancing', 'running', 'sitting', 'sitting',\n",
       "       'dancing', 'standing', 'standing', 'dancing', 'dancing',\n",
       "       'standing', 'running', 'running', 'dancing', 'dancing', 'sitting'],\n",
       "      dtype=object)"
      ]
     },
     "execution_count": 33,
     "metadata": {},
     "output_type": "execute_result"
    }
   ],
   "source": [
    "rfc.predict(train_feat)"
   ]
  },
  {
   "cell_type": "code",
   "execution_count": 34,
   "metadata": {},
   "outputs": [
    {
     "data": {
      "text/plain": [
       "array([[164,   0,   0,   0],\n",
       "       [  0, 136,   0,   0],\n",
       "       [  0,   0, 137,   0],\n",
       "       [  0,   0,   0, 161]], dtype=int64)"
      ]
     },
     "execution_count": 34,
     "metadata": {},
     "output_type": "execute_result"
    }
   ],
   "source": [
    "confusion_matrix(rfc.predict(train_feat), train_targ)"
   ]
  },
  {
   "cell_type": "markdown",
   "metadata": {},
   "source": [
    "# Linear SVC model"
   ]
  },
  {
   "cell_type": "code",
   "execution_count": 35,
   "metadata": {},
   "outputs": [
    {
     "data": {
      "text/plain": [
       "SVC(C=10000000000.0, kernel='linear')"
      ]
     },
     "execution_count": 35,
     "metadata": {},
     "output_type": "execute_result"
    }
   ],
   "source": [
    "svc.fit(train_feat, train_targ)"
   ]
  },
  {
   "cell_type": "code",
   "execution_count": 36,
   "metadata": {},
   "outputs": [
    {
     "data": {
      "text/plain": [
       "1.0"
      ]
     },
     "execution_count": 36,
     "metadata": {},
     "output_type": "execute_result"
    }
   ],
   "source": [
    "svc.score(train_feat, train_targ)"
   ]
  },
  {
   "cell_type": "code",
   "execution_count": 37,
   "metadata": {},
   "outputs": [
    {
     "data": {
      "text/plain": [
       "0.98"
      ]
     },
     "execution_count": 37,
     "metadata": {},
     "output_type": "execute_result"
    }
   ],
   "source": [
    "svc.score(test_feat, test_targ)"
   ]
  },
  {
   "cell_type": "code",
   "execution_count": 39,
   "metadata": {},
   "outputs": [
    {
     "data": {
      "text/plain": [
       "array(['dancing', 'sitting', 'dancing', 'sitting', 'running', 'running',\n",
       "       'running', 'sitting', 'running', 'standing', 'dancing', 'running',\n",
       "       'standing', 'dancing', 'standing', 'running', 'standing',\n",
       "       'sitting', 'running', 'running', 'sitting', 'running', 'dancing',\n",
       "       'sitting', 'running', 'running', 'standing', 'sitting', 'dancing',\n",
       "       'standing', 'standing', 'standing', 'sitting', 'standing',\n",
       "       'dancing', 'sitting', 'sitting', 'dancing', 'standing', 'running',\n",
       "       'sitting', 'standing', 'standing', 'standing', 'sitting',\n",
       "       'standing', 'dancing', 'sitting', 'sitting', 'sitting', 'dancing',\n",
       "       'standing', 'running', 'running', 'dancing', 'running', 'sitting',\n",
       "       'dancing', 'running', 'running', 'standing', 'standing', 'sitting',\n",
       "       'dancing', 'standing', 'standing', 'dancing', 'running', 'dancing',\n",
       "       'dancing', 'running', 'running', 'dancing', 'dancing', 'sitting',\n",
       "       'running', 'running', 'standing', 'dancing', 'running', 'standing',\n",
       "       'dancing', 'dancing', 'dancing', 'sitting', 'standing', 'sitting',\n",
       "       'sitting', 'standing', 'dancing', 'dancing', 'dancing', 'dancing',\n",
       "       'dancing', 'running', 'sitting', 'sitting', 'running', 'standing',\n",
       "       'running', 'running', 'running', 'standing', 'standing',\n",
       "       'standing', 'dancing', 'standing', 'standing', 'standing',\n",
       "       'sitting', 'sitting', 'sitting', 'running', 'running', 'standing',\n",
       "       'running', 'dancing', 'running', 'standing', 'standing',\n",
       "       'standing', 'running', 'running', 'running', 'dancing', 'dancing',\n",
       "       'standing', 'dancing', 'standing', 'sitting', 'dancing', 'sitting',\n",
       "       'dancing', 'standing', 'standing', 'standing', 'standing',\n",
       "       'running', 'running', 'dancing', 'running', 'standing', 'running',\n",
       "       'sitting', 'standing', 'dancing', 'sitting', 'sitting', 'standing',\n",
       "       'sitting'], dtype=object)"
      ]
     },
     "execution_count": 39,
     "metadata": {},
     "output_type": "execute_result"
    }
   ],
   "source": [
    "svc.predict(test_feat)"
   ]
  }
 ],
 "metadata": {
  "kernelspec": {
   "display_name": "Python 3",
   "language": "python",
   "name": "python3"
  },
  "language_info": {
   "codemirror_mode": {
    "name": "ipython",
    "version": 3
   },
   "file_extension": ".py",
   "mimetype": "text/x-python",
   "name": "python",
   "nbconvert_exporter": "python",
   "pygments_lexer": "ipython3",
   "version": "3.8.3"
  }
 },
 "nbformat": 4,
 "nbformat_minor": 4
}
